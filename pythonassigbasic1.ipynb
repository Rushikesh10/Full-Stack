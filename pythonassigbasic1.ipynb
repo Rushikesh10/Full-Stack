{
  "nbformat": 4,
  "nbformat_minor": 0,
  "metadata": {
    "colab": {
      "name": "pythonassigbasic1.ipynb",
      "provenance": [],
      "collapsed_sections": []
    },
    "kernelspec": {
      "name": "python3",
      "display_name": "Python 3"
    },
    "language_info": {
      "name": "python"
    }
  },
  "cells": [
    {
      "cell_type": "markdown",
      "metadata": {
        "id": "zu_tMdu1yAPd"
      },
      "source": [
        "1. In the below elements which of them are values or an expression? eg:- values can be integer or string and expressions will be mathematical operators.\n",
        " \n",
        "'*' \n",
        "\n",
        "'hello'\n",
        "\n",
        "-87.8\n",
        "\n",
        "' -' \n",
        "\n",
        "/ \n",
        "\n",
        "6 \n",
        "\n",
        "\n",
        "\n",
        "\n",
        "Ans : \n",
        "\n",
        " \n",
        " \n",
        "'*'  it is an matheatical expression\n",
        "\n",
        "\n",
        "'hello ' it is an str\n",
        "\n",
        "\n",
        "-87.8  it is an floting numner \n",
        "\n",
        "'-'   it is an mathematical expression \n",
        "\n",
        "'/'  it is an mathematical expression\n",
        "\n",
        "'+'  it is an mathematical expression\n",
        "\n",
        "'6'  it is an integer "
      ]
    },
    {
      "cell_type": "markdown",
      "metadata": {
        "id": "BDOGUfGSyASL"
      },
      "source": [
        "2. What is the difference between string and variable?\n",
        "\n",
        "\n",
        "Ans : string= String in python is basically surrounded by a single or a double quote to display the result for eg \"hello \" or 'hello'\n",
        "integer= integer in python is basically a positive , negative , whole no but not a decimal number for eg . a= 1, b=-1,c=0 . "
      ]
    },
    {
      "cell_type": "markdown",
      "metadata": {
        "id": "9_R-ZyTQyAVR"
      },
      "source": [
        "3. Describe three different data types.\n",
        "\n",
        "Ans : There are various inbuilt data types in python they are int,str,float,bool\n",
        "\n",
        "\n",
        "int : the integer is used to display the integer value like whole no but not a decimal number for eg . a= 1, b=-1,c=0 .\n",
        "\n",
        "str : String in python is basically surrounded by a single or a double quote to display the result for eg \"hello \" or 'hello'\n",
        "\n",
        "bool : the bool are basically the values that are True or False that gives the result True(1) only when the result is true , false(0) only when the statement is incorrect .\n"
      ]
    },
    {
      "cell_type": "markdown",
      "metadata": {
        "id": "lMAa_judyAYD"
      },
      "source": [
        "4. What is an expression made up of? What do all expressions do?\n",
        "\n",
        "Ans :Expression is a combination of variables, operations and values that yields a result value.\n",
        "\n",
        "for eg:  c=a+b\n",
        "\n",
        "\n",
        "\n"
      ]
    },
    {
      "cell_type": "markdown",
      "metadata": {
        "id": "XD2Ir3uQyAas"
      },
      "source": [
        "5. This assignment statements, like spam = 10. What is the difference between an\n",
        "expression and a statement?\n",
        "\n",
        "Ans : An expression is a combination of variables, operations and values \n",
        "where in statement  is just a single unit of execution and doesn’t return anything.\n"
      ]
    },
    {
      "cell_type": "markdown",
      "metadata": {
        "id": "Q3KZX-obyAdk"
      },
      "source": [
        "6. After running the following code, what does the variable bacon contain?\n",
        "bacon = 22\n",
        "bacon + 1\n",
        "\n",
        "\n",
        "Ans : this code wil show bacon value = 23.\n",
        "\n",
        "\n"
      ]
    },
    {
      "cell_type": "markdown",
      "metadata": {
        "id": "GmVndwyEyAgU"
      },
      "source": [
        "7. What should the values of the following two terms be?\n",
        "'spam' + 'spamspam'\n",
        "'spam' * 3\n",
        "\n",
        "\n",
        "Ans : spamspamspam\n"
      ]
    },
    {
      "cell_type": "markdown",
      "metadata": {
        "id": "x7rkzii9yAjc"
      },
      "source": [
        "8. Why is eggs a valid variable name while 100 is invalid?\n",
        "\n",
        "Ans : Because eggs is a str datatype whereas 100 is integer "
      ]
    },
    {
      "cell_type": "markdown",
      "metadata": {
        "id": "Vj1OJKImyAmF"
      },
      "source": [
        "9. What three functions can be used to get the integer, floating-point number, or string version of a value?\n",
        "\n",
        "Ans : int() ,float(),str().\n"
      ]
    },
    {
      "cell_type": "markdown",
      "metadata": {
        "id": "FLZcmzqG2tDJ"
      },
      "source": [
        "10. Why does this expression cause an error? How can you fix it?\n",
        "\n",
        "\n",
        "'I have eaten ' + 99 + ' burritos.'\n",
        "\n",
        "\n",
        "Ans : Because the datatype of 99 is int and rest of other is string\n",
        "\n",
        "\n",
        "'I have eaten ' + '99' + ' burritos.'"
      ]
    },
    {
      "cell_type": "code",
      "metadata": {
        "id": "oCc_Kxx43Enn"
      },
      "source": [
        ""
      ],
      "execution_count": null,
      "outputs": []
    }
  ]
}